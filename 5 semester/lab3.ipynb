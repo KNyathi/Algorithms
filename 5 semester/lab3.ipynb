{
 "cells": [
  {
   "cell_type": "markdown",
   "metadata": {},
   "source": [
    "## Lab 3\n",
    "## Ньяти Каелиле БВТ2201"
   ]
  },
  {
   "cell_type": "markdown",
   "metadata": {},
   "source": [
    "## Genetic Algorithm for OneMax"
   ]
  },
  {
   "cell_type": "code",
   "execution_count": 1,
   "metadata": {},
   "outputs": [],
   "source": [
    "# genetic algorithm search of the one max optimization problem\n",
    "from numpy.random import randint\n",
    "from numpy.random import rand"
   ]
  },
  {
   "cell_type": "code",
   "execution_count": 2,
   "metadata": {},
   "outputs": [],
   "source": [
    "# objective function\n",
    "def onemax(x):\n",
    " return -sum(x)"
   ]
  },
  {
   "cell_type": "code",
   "execution_count": 3,
   "metadata": {},
   "outputs": [],
   "source": [
    "#tournament selection\n",
    "\n",
    "def selection(pop, scores, k=3):\n",
    "    # First random selection\n",
    "    selection_ix = randint(len(pop))\n",
    "    \n",
    "    # Perform k-way tournament\n",
    "    for ix in randint(0, len(pop), k-1):\n",
    "        # Check if the current individual is better\n",
    "        if scores[ix] < scores[selection_ix]:\n",
    "            selection_ix = ix\n",
    "    \n",
    "    return pop[selection_ix]"
   ]
  },
  {
   "cell_type": "code",
   "execution_count": 4,
   "metadata": {},
   "outputs": [],
   "source": [
    "# Crossover two parents to create two children\n",
    "def crossover(p1, p2, r_cross):\n",
    "    # Children are copies of parents by default\n",
    "    c1, c2 = p1.copy(), p2.copy()\n",
    "    \n",
    "    # Check for recombination\n",
    "    if rand() < r_cross:\n",
    "        # Select crossover point that is not at the ends of the string\n",
    "        pt = randint(1, len(p1) - 1)\n",
    "        \n",
    "        # Perform crossover\n",
    "        c1 = p1[:pt] + p2[pt:]\n",
    "        c2 = p2[:pt] + p1[pt:]\n",
    "    \n",
    "    return [c1, c2]"
   ]
  },
  {
   "cell_type": "code",
   "execution_count": 5,
   "metadata": {},
   "outputs": [],
   "source": [
    "# Mutation operator\n",
    "def mutation(bitstring, r_mut):\n",
    "    for i in range(len(bitstring)):\n",
    "        # Check if mutation should occur\n",
    "        if rand() < r_mut:\n",
    "            # Flip the bit (0 -> 1 or 1 -> 0)\n",
    "            bitstring[i] = 1 - bitstring[i]"
   ]
  },
  {
   "cell_type": "code",
   "execution_count": 6,
   "metadata": {},
   "outputs": [],
   "source": [
    "# Genetic algorithm\n",
    "def genetic_algorithm(objective, n_bits, n_iter, n_pop, r_cross, r_mut):\n",
    "    # Initial population of random bitstrings\n",
    "    pop = [randint(0, 2, n_bits).tolist() for _ in range(n_pop)]\n",
    "    \n",
    "    # Keep track of the best solution\n",
    "    best, best_eval = pop[0], objective(pop[0])\n",
    "    \n",
    "    # Enumerate generations\n",
    "    for gen in range(n_iter):\n",
    "        # Evaluate all candidates in the population\n",
    "        scores = [objective(c) for c in pop]\n",
    "        \n",
    "        # Check for new best solution\n",
    "        for i in range(n_pop):\n",
    "            if scores[i] < best_eval:\n",
    "                best, best_eval = pop[i], scores[i]\n",
    "                print(\">%d, new best f(%s) = %.3f\" % (gen, pop[i], scores[i]))\n",
    "        \n",
    "        # Select parents based on scores\n",
    "        selected = [selection(pop, scores) for _ in range(n_pop)]\n",
    "        \n",
    "        # Create the next generation\n",
    "        children = list()\n",
    "        for i in range(0, n_pop, 2):\n",
    "            # Get selected parents in pairs\n",
    "            p1, p2 = selected[i], selected[i+1]\n",
    "            \n",
    "            # Perform crossover and mutation\n",
    "            for c in crossover(p1, p2, r_cross):\n",
    "                # Apply mutation\n",
    "                mutation(c, r_mut)\n",
    "                # Store for the next generation\n",
    "                children.append(c)\n",
    "        \n",
    "        # Replace population with the new generation\n",
    "        pop = children\n",
    "    \n",
    "    return [best, best_eval]"
   ]
  },
  {
   "cell_type": "code",
   "execution_count": 7,
   "metadata": {},
   "outputs": [],
   "source": [
    "# define the total iterations\n",
    "n_iter = 100\n",
    "# bits\n",
    "n_bits = 20\n",
    "# define the population size\n",
    "n_pop = 100\n",
    "# crossover rate\n",
    "r_cross = 0.9\n",
    "# mutation rate\n",
    "r_mut = 1.0 / float(n_bits)"
   ]
  },
  {
   "cell_type": "code",
   "execution_count": 10,
   "metadata": {},
   "outputs": [
    {
     "name": "stdout",
     "output_type": "stream",
     "text": [
      ">0, new best f([0, 1, 1, 0, 0, 1, 0, 1, 1, 1, 1, 0, 1, 0, 0, 1, 0, 0, 1, 1]) = -11.000\n",
      ">0, new best f([1, 1, 0, 1, 0, 1, 1, 1, 1, 0, 1, 0, 1, 1, 1, 0, 1, 1, 0, 1]) = -14.000\n",
      ">0, new best f([1, 1, 1, 1, 0, 1, 1, 1, 0, 0, 1, 1, 1, 1, 1, 0, 1, 1, 1, 0]) = -15.000\n",
      ">0, new best f([1, 1, 1, 1, 0, 1, 1, 0, 1, 1, 1, 0, 0, 1, 1, 1, 1, 1, 1, 1]) = -16.000\n",
      ">1, new best f([0, 1, 1, 1, 1, 1, 1, 1, 0, 1, 1, 1, 1, 0, 1, 1, 1, 1, 1, 1]) = -17.000\n",
      ">3, new best f([1, 1, 1, 1, 0, 1, 1, 1, 1, 1, 1, 1, 1, 1, 1, 1, 0, 1, 1, 1]) = -18.000\n",
      ">5, new best f([1, 1, 1, 1, 1, 1, 0, 1, 1, 1, 1, 1, 1, 1, 1, 1, 1, 1, 1, 1]) = -19.000\n",
      ">7, new best f([1, 1, 1, 1, 1, 1, 1, 1, 1, 1, 1, 1, 1, 1, 1, 1, 1, 1, 1, 1]) = -20.000\n",
      "Done!\n",
      "f([1, 1, 1, 1, 1, 1, 1, 1, 1, 1, 1, 1, 1, 1, 1, 1, 1, 1, 1, 1]) = -20.000000\n"
     ]
    }
   ],
   "source": [
    "# perform the genetic algorithm search\n",
    "best, score = genetic_algorithm(onemax, n_bits, n_iter, n_pop, r_cross, r_mut)\n",
    "print('Done!')\n",
    "print('f(%s) = %f' % (best, score))"
   ]
  }
 ],
 "metadata": {
  "kernelspec": {
   "display_name": "Python 3",
   "language": "python",
   "name": "python3"
  },
  "language_info": {
   "codemirror_mode": {
    "name": "ipython",
    "version": 3
   },
   "file_extension": ".py",
   "mimetype": "text/x-python",
   "name": "python",
   "nbconvert_exporter": "python",
   "pygments_lexer": "ipython3",
   "version": "3.6.8"
  }
 },
 "nbformat": 4,
 "nbformat_minor": 2
}
