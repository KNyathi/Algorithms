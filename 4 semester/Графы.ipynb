{
 "cells": [
  {
   "cell_type": "markdown",
   "metadata": {
    "id": "GdQ34me8Hp5p"
   },
   "source": [
    "Графы"
   ]
  },
  {
   "cell_type": "code",
   "execution_count": 2,
   "metadata": {
    "colab": {
     "base_uri": "https://localhost:8080/"
    },
    "executionInfo": {
     "elapsed": 243,
     "status": "ok",
     "timestamp": 1679133215173,
     "user": {
      "displayName": "Sergey Simonov",
      "userId": "14094206399671235086"
     },
     "user_tz": -180
    },
    "id": "RzjNqDhIHsIp",
    "outputId": "8c12f503-bea3-49c9-970e-2513a215fc93"
   },
   "outputs": [
    {
     "name": "stdout",
     "output_type": "stream",
     "text": [
      "Матрица смежности:\n",
      "[0, 1, 1, 0, 1]\n",
      "[1, 0, 1, 0, 0]\n",
      "[1, 1, 0, 1, 1]\n",
      "[0, 0, 1, 0, 0]\n",
      "[1, 0, 1, 0, 0]\n"
     ]
    }
   ],
   "source": [
    "g.graph = [[0, 1, 1, 0, 1],\n",
    "           [1, 0, 1, 0, 0],\n",
    "           [1, 1, 0, 1, 1],\n",
    "           [0, 0, 1, 0, 0],\n",
    "           [1, 0, 1, 0, 0]]\n",
    "\n",
    "# Print the adjacency matrix\n",
    "print('Adjacency Matrix:')\n",
    "for row in g.graph:\n",
    "    print(row)\n"
   ]
  }
 ],
 "metadata": {
  "colab": {
   "authorship_tag": "ABX9TyPnFe3Ipv24uXYYGgK3SvwV",
   "provenance": []
  },
  "kernelspec": {
   "display_name": "Python 3",
   "language": "python",
   "name": "python3"
  },
  "language_info": {
   "codemirror_mode": {
    "name": "ipython",
    "version": 3
   },
   "file_extension": ".py",
   "mimetype": "text/x-python",
   "name": "python",
   "nbconvert_exporter": "python",
   "pygments_lexer": "ipython3",
   "version": "3.6.8"
  }
 },
 "nbformat": 4,
 "nbformat_minor": 1
}
